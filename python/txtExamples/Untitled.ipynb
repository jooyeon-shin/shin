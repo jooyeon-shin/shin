{
 "cells": [
  {
   "cell_type": "code",
   "execution_count": 1,
   "id": "6bc15090",
   "metadata": {},
   "outputs": [
    {
     "name": "stdout",
     "output_type": "stream",
     "text": [
      "Requirement already satisfied: pip in c:\\users\\user3\\.conda\\envs\\pandas024\\lib\\site-packages (21.0.1)\n",
      "Collecting pip\n",
      "  Using cached pip-21.2.4-py3-none-any.whl (1.6 MB)\n",
      "Installing collected packages: pip\n",
      "Successfully installed pip-21.2.4\n"
     ]
    },
    {
     "name": "stderr",
     "output_type": "stream",
     "text": [
      "  WARNING: The scripts pip.exe, pip3.7.exe and pip3.exe are installed in 'C:\\Users\\user3\\AppData\\Roaming\\Python\\Python37\\Scripts' which is not on PATH.\n",
      "  Consider adding this directory to PATH or, if you prefer to suppress this warning, use --no-warn-script-location.\n"
     ]
    }
   ],
   "source": [
    "!pip install --upgrade pip --user"
   ]
  },
  {
   "cell_type": "code",
   "execution_count": 2,
   "id": "7c5778d1",
   "metadata": {},
   "outputs": [
    {
     "name": "stdout",
     "output_type": "stream",
     "text": [
      "Collecting numpy\n",
      "  Downloading numpy-1.21.2-cp37-cp37m-win_amd64.whl (14.0 MB)\n",
      "Installing collected packages: numpy\n",
      "Successfully installed numpy-1.21.2\n"
     ]
    }
   ],
   "source": [
    "!pip install numpy"
   ]
  },
  {
   "cell_type": "code",
   "execution_count": 3,
   "id": "4806fa1b",
   "metadata": {},
   "outputs": [
    {
     "name": "stdout",
     "output_type": "stream",
     "text": [
      "Collecting pandas==0.24.2\n",
      "  Downloading pandas-0.24.2-cp37-cp37m-win_amd64.whl (9.0 MB)\n",
      "Requirement already satisfied: numpy>=1.12.0 in c:\\users\\user3\\.conda\\envs\\pandas024\\lib\\site-packages (from pandas==0.24.2) (1.21.2)\n",
      "Collecting pytz>=2011k\n",
      "  Using cached pytz-2021.1-py2.py3-none-any.whl (510 kB)\n",
      "Requirement already satisfied: python-dateutil>=2.5.0 in c:\\users\\user3\\.conda\\envs\\pandas024\\lib\\site-packages (from pandas==0.24.2) (2.8.2)\n",
      "Requirement already satisfied: six>=1.5 in c:\\users\\user3\\.conda\\envs\\pandas024\\lib\\site-packages (from python-dateutil>=2.5.0->pandas==0.24.2) (1.16.0)\n",
      "Installing collected packages: pytz, pandas\n",
      "Successfully installed pandas-0.24.2 pytz-2021.1\n"
     ]
    }
   ],
   "source": [
    "!pip install pandas==0.24.2"
   ]
  },
  {
   "cell_type": "code",
   "execution_count": 5,
   "id": "5d835a0d",
   "metadata": {},
   "outputs": [
    {
     "data": {
      "text/plain": [
       "'0.24.2'"
      ]
     },
     "execution_count": 5,
     "metadata": {},
     "output_type": "execute_result"
    }
   ],
   "source": [
    "import numpy as np\n",
    "import pandas as pd\n",
    "pd.__version__"
   ]
  },
  {
   "cell_type": "code",
   "execution_count": null,
   "id": "fcbed827",
   "metadata": {},
   "outputs": [],
   "source": []
  }
 ],
 "metadata": {
  "kernelspec": {
   "display_name": "Python 3 (ipykernel)",
   "language": "python",
   "name": "python3"
  },
  "language_info": {
   "codemirror_mode": {
    "name": "ipython",
    "version": 3
   },
   "file_extension": ".py",
   "mimetype": "text/x-python",
   "name": "python",
   "nbconvert_exporter": "python",
   "pygments_lexer": "ipython3",
   "version": "3.7.11"
  }
 },
 "nbformat": 4,
 "nbformat_minor": 5
}
