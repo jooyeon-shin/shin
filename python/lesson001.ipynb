{
 "cells": [
  {
   "cell_type": "code",
   "execution_count": 1,
   "id": "f318ac76",
   "metadata": {},
   "outputs": [
    {
     "name": "stdout",
     "output_type": "stream",
     "text": [
      "Hello, Python\n"
     ]
    }
   ],
   "source": [
    "#파이썬을 이용한 프로그래밍 기초\n",
    "#Jupyter Notebook환경에서는 셀에 명령어를 입력하고\n",
    "#실행한다.(Crrl+enter, Shift+enter, Alt+enter)\n",
    "print(\"Hello, Python\")"
   ]
  },
  {
   "cell_type": "code",
   "execution_count": 6,
   "id": "8adcc707",
   "metadata": {},
   "outputs": [],
   "source": [
    "#데이터의 선언과 사용==> 동적할당 가능\n",
    "# 파이썬에서는 필요에 따라 바로 사용한다.\n",
    "a = 10"
   ]
  },
  {
   "cell_type": "code",
   "execution_count": 3,
   "id": "5acbf688",
   "metadata": {},
   "outputs": [],
   "source": [
    "c=1234567890"
   ]
  },
  {
   "cell_type": "code",
   "execution_count": 4,
   "id": "9fef7c90",
   "metadata": {},
   "outputs": [],
   "source": [
    "#문자열의 표현\n",
    "mystring=\"Korea\""
   ]
  },
  {
   "cell_type": "code",
   "execution_count": null,
   "id": "0b8e7291",
   "metadata": {},
   "outputs": [],
   "source": []
  }
 ],
 "metadata": {
  "kernelspec": {
   "display_name": "Python 3 (ipykernel)",
   "language": "python",
   "name": "python3"
  },
  "language_info": {
   "codemirror_mode": {
    "name": "ipython",
    "version": 3
   },
   "file_extension": ".py",
   "mimetype": "text/x-python",
   "name": "python",
   "nbconvert_exporter": "python",
   "pygments_lexer": "ipython3",
   "version": "3.9.6"
  }
 },
 "nbformat": 4,
 "nbformat_minor": 5
}
